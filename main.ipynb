{
 "cells": [
  {
   "cell_type": "code",
   "execution_count": 13,
   "metadata": {},
   "outputs": [],
   "source": [
    "from googletrans import Translator\n",
    "import pandas as pd"
   ]
  },
  {
   "cell_type": "code",
   "execution_count": 2,
   "metadata": {},
   "outputs": [],
   "source": [
    "trans = Translator()"
   ]
  },
  {
   "cell_type": "code",
   "execution_count": 5,
   "metadata": {},
   "outputs": [
    {
     "data": {
      "text/plain": [
       "'Green onion'"
      ]
     },
     "execution_count": 5,
     "metadata": {},
     "output_type": "execute_result"
    }
   ],
   "source": [
    "trans.translate('ねぎ', dest='en').text"
   ]
  },
  {
   "cell_type": "code",
   "execution_count": 6,
   "metadata": {},
   "outputs": [
    {
     "data": {
      "text/plain": [
       "'onion'"
      ]
     },
     "execution_count": 6,
     "metadata": {},
     "output_type": "execute_result"
    }
   ],
   "source": [
    "trans.translate('玉ねぎ', dest='en').text"
   ]
  },
  {
   "cell_type": "code",
   "execution_count": 12,
   "metadata": {},
   "outputs": [],
   "source": [
    "# https://github.com/ssut/py-googletrans/blob/d15c94f176463b2ce6199a42a1c517690366977f/googletrans/constants.py#L75-L183\n",
    "LANGUAGES = {\n",
    "    'af': 'afrikaans',\n",
    "    'sq': 'albanian',\n",
    "    'am': 'amharic',\n",
    "    'ar': 'arabic',\n",
    "    'hy': 'armenian',\n",
    "    'az': 'azerbaijani',\n",
    "    'eu': 'basque',\n",
    "    'be': 'belarusian',\n",
    "    'bn': 'bengali',\n",
    "    'bs': 'bosnian',\n",
    "    'bg': 'bulgarian',\n",
    "    'ca': 'catalan',\n",
    "    'ceb': 'cebuano',\n",
    "    'ny': 'chichewa',\n",
    "    'zh-cn': 'chinese (simplified)',\n",
    "    'zh-tw': 'chinese (traditional)',\n",
    "    'co': 'corsican',\n",
    "    'hr': 'croatian',\n",
    "    'cs': 'czech',\n",
    "    'da': 'danish',\n",
    "    'nl': 'dutch',\n",
    "    'en': 'english',\n",
    "    'eo': 'esperanto',\n",
    "    'et': 'estonian',\n",
    "    'tl': 'filipino',\n",
    "    'fi': 'finnish',\n",
    "    'fr': 'french',\n",
    "    'fy': 'frisian',\n",
    "    'gl': 'galician',\n",
    "    'ka': 'georgian',\n",
    "    'de': 'german',\n",
    "    'el': 'greek',\n",
    "    'gu': 'gujarati',\n",
    "    'ht': 'haitian creole',\n",
    "    'ha': 'hausa',\n",
    "    'haw': 'hawaiian',\n",
    "    'iw': 'hebrew',\n",
    "    'he': 'hebrew',\n",
    "    'hi': 'hindi',\n",
    "    'hmn': 'hmong',\n",
    "    'hu': 'hungarian',\n",
    "    'is': 'icelandic',\n",
    "    'ig': 'igbo',\n",
    "    'id': 'indonesian',\n",
    "    'ga': 'irish',\n",
    "    'it': 'italian',\n",
    "    'ja': 'japanese',\n",
    "    'jw': 'javanese',\n",
    "    'kn': 'kannada',\n",
    "    'kk': 'kazakh',\n",
    "    'km': 'khmer',\n",
    "    'ko': 'korean',\n",
    "    'ku': 'kurdish (kurmanji)',\n",
    "    'ky': 'kyrgyz',\n",
    "    'lo': 'lao',\n",
    "    'la': 'latin',\n",
    "    'lv': 'latvian',\n",
    "    'lt': 'lithuanian',\n",
    "    'lb': 'luxembourgish',\n",
    "    'mk': 'macedonian',\n",
    "    'mg': 'malagasy',\n",
    "    'ms': 'malay',\n",
    "    'ml': 'malayalam',\n",
    "    'mt': 'maltese',\n",
    "    'mi': 'maori',\n",
    "    'mr': 'marathi',\n",
    "    'mn': 'mongolian',\n",
    "    'my': 'myanmar (burmese)',\n",
    "    'ne': 'nepali',\n",
    "    'no': 'norwegian',\n",
    "    'or': 'odia',\n",
    "    'ps': 'pashto',\n",
    "    'fa': 'persian',\n",
    "    'pl': 'polish',\n",
    "    'pt': 'portuguese',\n",
    "    'pa': 'punjabi',\n",
    "    'ro': 'romanian',\n",
    "    'ru': 'russian',\n",
    "    'sm': 'samoan',\n",
    "    'gd': 'scots gaelic',\n",
    "    'sr': 'serbian',\n",
    "    'st': 'sesotho',\n",
    "    'sn': 'shona',\n",
    "    'sd': 'sindhi',\n",
    "    'si': 'sinhala',\n",
    "    'sk': 'slovak',\n",
    "    'sl': 'slovenian',\n",
    "    'so': 'somali',\n",
    "    'es': 'spanish',\n",
    "    'su': 'sundanese',\n",
    "    'sw': 'swahili',\n",
    "    'sv': 'swedish',\n",
    "    'tg': 'tajik',\n",
    "    'ta': 'tamil',\n",
    "    'te': 'telugu',\n",
    "    'th': 'thai',\n",
    "    'tr': 'turkish',\n",
    "    'uk': 'ukrainian',\n",
    "    'ur': 'urdu',\n",
    "    'ug': 'uyghur',\n",
    "    'uz': 'uzbek',\n",
    "    'vi': 'vietnamese',\n",
    "    'cy': 'welsh',\n",
    "    'xh': 'xhosa',\n",
    "    'yi': 'yiddish',\n",
    "    'yo': 'yoruba',\n",
    "    'zu': 'zulu',\n",
    "}"
   ]
  },
  {
   "cell_type": "code",
   "execution_count": 14,
   "metadata": {},
   "outputs": [],
   "source": [
    "negi = [trans.translate('ねぎ', dest=lang).text for lang in LANGUAGES.keys()]\n",
    "tamanegi = [trans.translate('玉ねぎ', dest=lang).text for lang in LANGUAGES.keys()]"
   ]
  },
  {
   "cell_type": "code",
   "execution_count": 34,
   "metadata": {},
   "outputs": [
    {
     "data": {
      "text/html": [
       "<div>\n",
       "<style scoped>\n",
       "    .dataframe tbody tr th:only-of-type {\n",
       "        vertical-align: middle;\n",
       "    }\n",
       "\n",
       "    .dataframe tbody tr th {\n",
       "        vertical-align: top;\n",
       "    }\n",
       "\n",
       "    .dataframe thead th {\n",
       "        text-align: right;\n",
       "    }\n",
       "</style>\n",
       "<table border=\"1\" class=\"dataframe\">\n",
       "  <thead>\n",
       "    <tr style=\"text-align: right;\">\n",
       "      <th></th>\n",
       "      <th>ねぎ</th>\n",
       "      <th>玉ねぎ</th>\n",
       "    </tr>\n",
       "  </thead>\n",
       "  <tbody>\n",
       "    <tr>\n",
       "      <th>アフリカ人 (afrikaans)</th>\n",
       "      <td>Groenui</td>\n",
       "      <td>ui</td>\n",
       "    </tr>\n",
       "    <tr>\n",
       "      <th>アルバニア語 (albanian)</th>\n",
       "      <td>Qepë e gjelbërt</td>\n",
       "      <td>qepë</td>\n",
       "    </tr>\n",
       "    <tr>\n",
       "      <th>アムハリック (amharic)</th>\n",
       "      <td>አረንጓዴ ሽንኩርት</td>\n",
       "      <td>ሽንኩርት</td>\n",
       "    </tr>\n",
       "    <tr>\n",
       "      <th>アラビア語 (arabic)</th>\n",
       "      <td>بصل أخضر</td>\n",
       "      <td>بصلة</td>\n",
       "    </tr>\n",
       "    <tr>\n",
       "      <th>アルメニア人 (armenian)</th>\n",
       "      <td>Կանաչ սոխ</td>\n",
       "      <td>սոխ</td>\n",
       "    </tr>\n",
       "    <tr>\n",
       "      <th>...</th>\n",
       "      <td>...</td>\n",
       "      <td>...</td>\n",
       "    </tr>\n",
       "    <tr>\n",
       "      <th>ウェールズ (welsh)</th>\n",
       "      <td>Winwns gwyrdd</td>\n",
       "      <td>winwns</td>\n",
       "    </tr>\n",
       "    <tr>\n",
       "      <th>Xhosa. (xhosa)</th>\n",
       "      <td>I-anyanisi eluhlaza</td>\n",
       "      <td>itswele</td>\n",
       "    </tr>\n",
       "    <tr>\n",
       "      <th>イディシッシュ (yiddish)</th>\n",
       "      <td>גרינע צוויבל</td>\n",
       "      <td>ציבעלע</td>\n",
       "    </tr>\n",
       "    <tr>\n",
       "      <th>ヨルバ (yoruba)</th>\n",
       "      <td>Alubosa alawọ ewe</td>\n",
       "      <td>Alubosa</td>\n",
       "    </tr>\n",
       "    <tr>\n",
       "      <th>ズルー (zulu)</th>\n",
       "      <td>U-anyanisi oluhlaza</td>\n",
       "      <td>u-anyanini</td>\n",
       "    </tr>\n",
       "  </tbody>\n",
       "</table>\n",
       "<p>107 rows × 2 columns</p>\n",
       "</div>"
      ],
      "text/plain": [
       "                                    ねぎ         玉ねぎ\n",
       "アフリカ人 (afrikaans)              Groenui          ui\n",
       "アルバニア語 (albanian)      Qepë e gjelbërt        qepë\n",
       "アムハリック (amharic)           አረንጓዴ ሽንኩርት       ሽንኩርት\n",
       "アラビア語 (arabic)                بصل أخضر        بصلة\n",
       "アルメニア人 (armenian)            Կանաչ սոխ         սոխ\n",
       "...                                ...         ...\n",
       "ウェールズ (welsh)            Winwns gwyrdd      winwns\n",
       "Xhosa. (xhosa)     I-anyanisi eluhlaza     itswele\n",
       "イディシッシュ (yiddish)         גרינע צוויבל      ציבעלע\n",
       "ヨルバ (yoruba)         Alubosa alawọ ewe     Alubosa\n",
       "ズルー (zulu)         U-anyanisi oluhlaza  u-anyanini\n",
       "\n",
       "[107 rows x 2 columns]"
      ]
     },
     "execution_count": 34,
     "metadata": {},
     "output_type": "execute_result"
    }
   ],
   "source": [
    "ja_langs = [f\"{trans.translate(lang, dest='ja').text} ({lang})\" for lang in LANGUAGES.values()]\n",
    "df = pd.DataFrame({'ねぎ': negi, '玉ねぎ': tamanegi}, index=ja_langs)\n",
    "df"
   ]
  },
  {
   "cell_type": "code",
   "execution_count": 35,
   "metadata": {},
   "outputs": [],
   "source": [
    "df.to_csv('negi_tamanegi.csv')"
   ]
  },
  {
   "cell_type": "code",
   "execution_count": null,
   "metadata": {},
   "outputs": [],
   "source": []
  },
  {
   "cell_type": "code",
   "execution_count": null,
   "metadata": {},
   "outputs": [],
   "source": []
  },
  {
   "cell_type": "code",
   "execution_count": null,
   "metadata": {},
   "outputs": [],
   "source": []
  },
  {
   "cell_type": "code",
   "execution_count": 39,
   "metadata": {},
   "outputs": [],
   "source": [
    "from bs4 import BeautifulSoup\n",
    "import requests\n",
    "from selenium import webdriver\n",
    "from selenium.webdriver.chrome.options import Options\n",
    "import time\n",
    "import pandas as pd\n",
    "\n",
    "def get_soup(url):\n",
    "    response = requests.get(url)\n",
    "    response.encoding = response.apparent_encoding\n",
    "    html = response.text\n",
    "    return BeautifulSoup(html, 'html.parser')\n",
    "\n",
    "def get_driver(headless=True):\n",
    "    if headless:\n",
    "        options = Options()\n",
    "        options.add_argument('--headless')\n",
    "        driver = webdriver.Chrome('./chromedriver', chrome_options=options)\n",
    "    else:\n",
    "        driver =  webdriver.Chrome('./chromedriver')\n",
    "    return driver"
   ]
  },
  {
   "cell_type": "code",
   "execution_count": 73,
   "metadata": {},
   "outputs": [],
   "source": [
    "url = 'https://translate.google.co.jp/?hl=ja&sl=ja&tl=ko&text=ねぎ&op=translate'"
   ]
  },
  {
   "cell_type": "code",
   "execution_count": 74,
   "metadata": {},
   "outputs": [
    {
     "name": "stderr",
     "output_type": "stream",
     "text": [
      "/Users/s.motomura/.pyenv/versions/3.6.5/lib/python3.6/site-packages/ipykernel_launcher.py:16: DeprecationWarning: use options instead of chrome_options\n",
      "  app.launch_new_instance()\n"
     ]
    }
   ],
   "source": [
    "driver = get_driver(url)"
   ]
  },
  {
   "cell_type": "code",
   "execution_count": 71,
   "metadata": {},
   "outputs": [],
   "source": [
    "dest_word = driver.find_element_by_xpath('/html/body/c-wiz/div/div[2]/c-wiz/div[2]/c-wiz/div[1]/div[2]/div[2]/c-wiz[2]/div[5]/div/div[1]/span[1]/span').text\n",
    "driver.close()"
   ]
  },
  {
   "cell_type": "code",
   "execution_count": 72,
   "metadata": {},
   "outputs": [
    {
     "data": {
      "text/plain": [
       "'파'"
      ]
     },
     "execution_count": 72,
     "metadata": {},
     "output_type": "execute_result"
    }
   ],
   "source": [
    "dest_word"
   ]
  },
  {
   "cell_type": "code",
   "execution_count": 2,
   "metadata": {},
   "outputs": [],
   "source": [
    "lang_elems_html = '<div class=\"vnyljd\">すべての言語</div><div class=\"ordo2\" jsname=\"sgblj\" data-language-code=\"is\" tabindex=\"0\"><div class=\"ltCBQb\"><i class=\"material-icons-extended VfPpkd-kBDsod g3XDjb\" aria-hidden=\"true\" lang=\"\">check</i><i class=\"material-icons-extended VfPpkd-kBDsod W5jNxd\" aria-hidden=\"true\" lang=\"\">history</i></div><div class=\"PxXj2d\" jsname=\"Lm8Uhb\">アイスランド語</div></div><div class=\"ordo2\" jsname=\"sgblj\" data-language-code=\"ga\" tabindex=\"0\"><div class=\"ltCBQb\"><i class=\"material-icons-extended VfPpkd-kBDsod g3XDjb\" aria-hidden=\"true\" lang=\"\">check</i><i class=\"material-icons-extended VfPpkd-kBDsod W5jNxd\" aria-hidden=\"true\" lang=\"\">history</i></div><div class=\"PxXj2d\" jsname=\"Lm8Uhb\">アイルランド語</div></div><div class=\"ordo2\" jsname=\"sgblj\" data-language-code=\"az\" tabindex=\"0\"><div class=\"ltCBQb\"><i class=\"material-icons-extended VfPpkd-kBDsod g3XDjb\" aria-hidden=\"true\" lang=\"\">check</i><i class=\"material-icons-extended VfPpkd-kBDsod W5jNxd\" aria-hidden=\"true\" lang=\"\">history</i></div><div class=\"PxXj2d\" jsname=\"Lm8Uhb\">アゼルバイジャン語</div></div><div class=\"ordo2\" jsname=\"sgblj\" data-language-code=\"af\" tabindex=\"0\"><div class=\"ltCBQb\"><i class=\"material-icons-extended VfPpkd-kBDsod g3XDjb\" aria-hidden=\"true\" lang=\"\">check</i><i class=\"material-icons-extended VfPpkd-kBDsod W5jNxd\" aria-hidden=\"true\" lang=\"\">history</i></div><div class=\"PxXj2d\" jsname=\"Lm8Uhb\">アフリカーンス語</div></div><div class=\"ordo2\" jsname=\"sgblj\" data-language-code=\"am\" tabindex=\"0\"><div class=\"ltCBQb\"><i class=\"material-icons-extended VfPpkd-kBDsod g3XDjb\" aria-hidden=\"true\" lang=\"\">check</i><i class=\"material-icons-extended VfPpkd-kBDsod W5jNxd\" aria-hidden=\"true\" lang=\"\">history</i></div><div class=\"PxXj2d\" jsname=\"Lm8Uhb\">アムハラ語</div></div><div class=\"ordo2\" jsname=\"sgblj\" data-language-code=\"ar\" tabindex=\"0\"><div class=\"ltCBQb\"><i class=\"material-icons-extended VfPpkd-kBDsod g3XDjb\" aria-hidden=\"true\" lang=\"\">check</i><i class=\"material-icons-extended VfPpkd-kBDsod W5jNxd\" aria-hidden=\"true\" lang=\"\">history</i></div><div class=\"PxXj2d\" jsname=\"Lm8Uhb\">アラビア語</div></div><div class=\"ordo2\" jsname=\"sgblj\" data-language-code=\"sq\" tabindex=\"0\"><div class=\"ltCBQb\"><i class=\"material-icons-extended VfPpkd-kBDsod g3XDjb\" aria-hidden=\"true\" lang=\"\">check</i><i class=\"material-icons-extended VfPpkd-kBDsod W5jNxd\" aria-hidden=\"true\" lang=\"\">history</i></div><div class=\"PxXj2d\" jsname=\"Lm8Uhb\">アルバニア語</div></div><div class=\"ordo2\" jsname=\"sgblj\" data-language-code=\"hy\" tabindex=\"0\"><div class=\"ltCBQb\"><i class=\"material-icons-extended VfPpkd-kBDsod g3XDjb\" aria-hidden=\"true\" lang=\"\">check</i><i class=\"material-icons-extended VfPpkd-kBDsod W5jNxd\" aria-hidden=\"true\" lang=\"\">history</i></div><div class=\"PxXj2d\" jsname=\"Lm8Uhb\">アルメニア語</div></div><div class=\"ordo2\" jsname=\"sgblj\" data-language-code=\"it\" tabindex=\"0\"><div class=\"ltCBQb\"><i class=\"material-icons-extended VfPpkd-kBDsod g3XDjb\" aria-hidden=\"true\" lang=\"\">check</i><i class=\"material-icons-extended VfPpkd-kBDsod W5jNxd\" aria-hidden=\"true\" lang=\"\">history</i></div><div class=\"PxXj2d\" jsname=\"Lm8Uhb\">イタリア語</div></div><div class=\"ordo2\" jsname=\"sgblj\" data-language-code=\"yi\" tabindex=\"0\"><div class=\"ltCBQb\"><i class=\"material-icons-extended VfPpkd-kBDsod g3XDjb\" aria-hidden=\"true\" lang=\"\">check</i><i class=\"material-icons-extended VfPpkd-kBDsod W5jNxd\" aria-hidden=\"true\" lang=\"\">history</i></div><div class=\"PxXj2d\" jsname=\"Lm8Uhb\">イディッシュ語</div></div><div class=\"ordo2\" jsname=\"sgblj\" data-language-code=\"ig\" tabindex=\"0\"><div class=\"ltCBQb\"><i class=\"material-icons-extended VfPpkd-kBDsod g3XDjb\" aria-hidden=\"true\" lang=\"\">check</i><i class=\"material-icons-extended VfPpkd-kBDsod W5jNxd\" aria-hidden=\"true\" lang=\"\">history</i></div><div class=\"PxXj2d\" jsname=\"Lm8Uhb\">イボ語</div></div><div class=\"ordo2\" jsname=\"sgblj\" data-language-code=\"id\" tabindex=\"0\"><div class=\"ltCBQb\"><i class=\"material-icons-extended VfPpkd-kBDsod g3XDjb\" aria-hidden=\"true\" lang=\"\">check</i><i class=\"material-icons-extended VfPpkd-kBDsod W5jNxd\" aria-hidden=\"true\" lang=\"\">history</i></div><div class=\"PxXj2d\" jsname=\"Lm8Uhb\">インドネシア語</div></div><div class=\"ordo2\" jsname=\"sgblj\" data-language-code=\"ug\" tabindex=\"0\"><div class=\"ltCBQb\"><i class=\"material-icons-extended VfPpkd-kBDsod g3XDjb\" aria-hidden=\"true\" lang=\"\">check</i><i class=\"material-icons-extended VfPpkd-kBDsod W5jNxd\" aria-hidden=\"true\" lang=\"\">history</i></div><div class=\"PxXj2d\" jsname=\"Lm8Uhb\">ウイグル語</div></div><div class=\"ordo2\" jsname=\"sgblj\" data-language-code=\"cy\" tabindex=\"0\"><div class=\"ltCBQb\"><i class=\"material-icons-extended VfPpkd-kBDsod g3XDjb\" aria-hidden=\"true\" lang=\"\">check</i><i class=\"material-icons-extended VfPpkd-kBDsod W5jNxd\" aria-hidden=\"true\" lang=\"\">history</i></div><div class=\"PxXj2d\" jsname=\"Lm8Uhb\">ウェールズ語</div></div><div class=\"ordo2\" jsname=\"sgblj\" data-language-code=\"uk\" tabindex=\"0\"><div class=\"ltCBQb\"><i class=\"material-icons-extended VfPpkd-kBDsod g3XDjb\" aria-hidden=\"true\" lang=\"\">check</i><i class=\"material-icons-extended VfPpkd-kBDsod W5jNxd\" aria-hidden=\"true\" lang=\"\">history</i></div><div class=\"PxXj2d\" jsname=\"Lm8Uhb\">ウクライナ語</div></div><div class=\"ordo2\" jsname=\"sgblj\" data-language-code=\"uz\" tabindex=\"0\"><div class=\"ltCBQb\"><i class=\"material-icons-extended VfPpkd-kBDsod g3XDjb\" aria-hidden=\"true\" lang=\"\">check</i><i class=\"material-icons-extended VfPpkd-kBDsod W5jNxd\" aria-hidden=\"true\" lang=\"\">history</i></div><div class=\"PxXj2d\" jsname=\"Lm8Uhb\">ウズベク語</div></div><div class=\"ordo2\" jsname=\"sgblj\" data-language-code=\"ur\" tabindex=\"0\"><div class=\"ltCBQb\"><i class=\"material-icons-extended VfPpkd-kBDsod g3XDjb\" aria-hidden=\"true\" lang=\"\">check</i><i class=\"material-icons-extended VfPpkd-kBDsod W5jNxd\" aria-hidden=\"true\" lang=\"\">history</i></div><div class=\"PxXj2d\" jsname=\"Lm8Uhb\">ウルドゥ語</div></div><div class=\"ordo2\" jsname=\"sgblj\" data-language-code=\"et\" tabindex=\"0\"><div class=\"ltCBQb\"><i class=\"material-icons-extended VfPpkd-kBDsod g3XDjb\" aria-hidden=\"true\" lang=\"\">check</i><i class=\"material-icons-extended VfPpkd-kBDsod W5jNxd\" aria-hidden=\"true\" lang=\"\">history</i></div><div class=\"PxXj2d\" jsname=\"Lm8Uhb\">エストニア語</div></div><div class=\"ordo2\" jsname=\"sgblj\" data-language-code=\"eo\" tabindex=\"0\"><div class=\"ltCBQb\"><i class=\"material-icons-extended VfPpkd-kBDsod g3XDjb\" aria-hidden=\"true\" lang=\"\">check</i><i class=\"material-icons-extended VfPpkd-kBDsod W5jNxd\" aria-hidden=\"true\" lang=\"\">history</i></div><div class=\"PxXj2d\" jsname=\"Lm8Uhb\">エスペラント語</div></div><div class=\"ordo2\" jsname=\"sgblj\" data-language-code=\"nl\" tabindex=\"0\"><div class=\"ltCBQb\"><i class=\"material-icons-extended VfPpkd-kBDsod g3XDjb\" aria-hidden=\"true\" lang=\"\">check</i><i class=\"material-icons-extended VfPpkd-kBDsod W5jNxd\" aria-hidden=\"true\" lang=\"\">history</i></div><div class=\"PxXj2d\" jsname=\"Lm8Uhb\">オランダ語</div></div><div class=\"ordo2\" jsname=\"sgblj\" data-language-code=\"or\" tabindex=\"0\"><div class=\"ltCBQb\"><i class=\"material-icons-extended VfPpkd-kBDsod g3XDjb\" aria-hidden=\"true\" lang=\"\">check</i><i class=\"material-icons-extended VfPpkd-kBDsod W5jNxd\" aria-hidden=\"true\" lang=\"\">history</i></div><div class=\"PxXj2d\" jsname=\"Lm8Uhb\">オリヤ語</div></div><div class=\"ordo2\" jsname=\"sgblj\" data-language-code=\"kk\" tabindex=\"0\"><div class=\"ltCBQb\"><i class=\"material-icons-extended VfPpkd-kBDsod g3XDjb\" aria-hidden=\"true\" lang=\"\">check</i><i class=\"material-icons-extended VfPpkd-kBDsod W5jNxd\" aria-hidden=\"true\" lang=\"\">history</i></div><div class=\"PxXj2d\" jsname=\"Lm8Uhb\">カザフ語</div></div><div class=\"ordo2\" jsname=\"sgblj\" data-language-code=\"ca\" tabindex=\"0\"><div class=\"ltCBQb\"><i class=\"material-icons-extended VfPpkd-kBDsod g3XDjb\" aria-hidden=\"true\" lang=\"\">check</i><i class=\"material-icons-extended VfPpkd-kBDsod W5jNxd\" aria-hidden=\"true\" lang=\"\">history</i></div><div class=\"PxXj2d\" jsname=\"Lm8Uhb\">カタルーニャ語</div></div><div class=\"ordo2\" jsname=\"sgblj\" data-language-code=\"gl\" tabindex=\"0\"><div class=\"ltCBQb\"><i class=\"material-icons-extended VfPpkd-kBDsod g3XDjb\" aria-hidden=\"true\" lang=\"\">check</i><i class=\"material-icons-extended VfPpkd-kBDsod W5jNxd\" aria-hidden=\"true\" lang=\"\">history</i></div><div class=\"PxXj2d\" jsname=\"Lm8Uhb\">ガリシア語</div></div><div class=\"ordo2\" jsname=\"sgblj\" data-language-code=\"kn\" tabindex=\"0\"><div class=\"ltCBQb\"><i class=\"material-icons-extended VfPpkd-kBDsod g3XDjb\" aria-hidden=\"true\" lang=\"\">check</i><i class=\"material-icons-extended VfPpkd-kBDsod W5jNxd\" aria-hidden=\"true\" lang=\"\">history</i></div><div class=\"PxXj2d\" jsname=\"Lm8Uhb\">カンナダ語</div></div><div class=\"ordo2\" jsname=\"sgblj\" data-language-code=\"rw\" tabindex=\"0\"><div class=\"ltCBQb\"><i class=\"material-icons-extended VfPpkd-kBDsod g3XDjb\" aria-hidden=\"true\" lang=\"\">check</i><i class=\"material-icons-extended VfPpkd-kBDsod W5jNxd\" aria-hidden=\"true\" lang=\"\">history</i></div><div class=\"PxXj2d\" jsname=\"Lm8Uhb\">キニヤルワンダ語</div></div><div class=\"ordo2\" jsname=\"sgblj\" data-language-code=\"el\" tabindex=\"0\"><div class=\"ltCBQb\"><i class=\"material-icons-extended VfPpkd-kBDsod g3XDjb\" aria-hidden=\"true\" lang=\"\">check</i><i class=\"material-icons-extended VfPpkd-kBDsod W5jNxd\" aria-hidden=\"true\" lang=\"\">history</i></div><div class=\"PxXj2d\" jsname=\"Lm8Uhb\">ギリシャ語</div></div><div class=\"ordo2\" jsname=\"sgblj\" data-language-code=\"ky\" tabindex=\"0\"><div class=\"ltCBQb\"><i class=\"material-icons-extended VfPpkd-kBDsod g3XDjb\" aria-hidden=\"true\" lang=\"\">check</i><i class=\"material-icons-extended VfPpkd-kBDsod W5jNxd\" aria-hidden=\"true\" lang=\"\">history</i></div><div class=\"PxXj2d\" jsname=\"Lm8Uhb\">キルギス語</div></div><div class=\"ordo2\" jsname=\"sgblj\" data-language-code=\"gu\" tabindex=\"0\"><div class=\"ltCBQb\"><i class=\"material-icons-extended VfPpkd-kBDsod g3XDjb\" aria-hidden=\"true\" lang=\"\">check</i><i class=\"material-icons-extended VfPpkd-kBDsod W5jNxd\" aria-hidden=\"true\" lang=\"\">history</i></div><div class=\"PxXj2d\" jsname=\"Lm8Uhb\">グジャラト語</div></div><div class=\"ordo2\" jsname=\"sgblj\" data-language-code=\"km\" tabindex=\"0\"><div class=\"ltCBQb\"><i class=\"material-icons-extended VfPpkd-kBDsod g3XDjb\" aria-hidden=\"true\" lang=\"\">check</i><i class=\"material-icons-extended VfPpkd-kBDsod W5jNxd\" aria-hidden=\"true\" lang=\"\">history</i></div><div class=\"PxXj2d\" jsname=\"Lm8Uhb\">クメール語</div></div><div class=\"ordo2\" jsname=\"sgblj\" data-language-code=\"ku\" tabindex=\"0\"><div class=\"ltCBQb\"><i class=\"material-icons-extended VfPpkd-kBDsod g3XDjb\" aria-hidden=\"true\" lang=\"\">check</i><i class=\"material-icons-extended VfPpkd-kBDsod W5jNxd\" aria-hidden=\"true\" lang=\"\">history</i></div><div class=\"PxXj2d\" jsname=\"Lm8Uhb\">クルド語</div></div><div class=\"ordo2\" jsname=\"sgblj\" data-language-code=\"hr\" tabindex=\"0\"><div class=\"ltCBQb\"><i class=\"material-icons-extended VfPpkd-kBDsod g3XDjb\" aria-hidden=\"true\" lang=\"\">check</i><i class=\"material-icons-extended VfPpkd-kBDsod W5jNxd\" aria-hidden=\"true\" lang=\"\">history</i></div><div class=\"PxXj2d\" jsname=\"Lm8Uhb\">クロアチア語</div></div><div class=\"ordo2\" jsname=\"sgblj\" data-language-code=\"xh\" tabindex=\"0\"><div class=\"ltCBQb\"><i class=\"material-icons-extended VfPpkd-kBDsod g3XDjb\" aria-hidden=\"true\" lang=\"\">check</i><i class=\"material-icons-extended VfPpkd-kBDsod W5jNxd\" aria-hidden=\"true\" lang=\"\">history</i></div><div class=\"PxXj2d\" jsname=\"Lm8Uhb\">コーサ語</div></div><div class=\"ordo2\" jsname=\"sgblj\" data-language-code=\"co\" tabindex=\"0\"><div class=\"ltCBQb\"><i class=\"material-icons-extended VfPpkd-kBDsod g3XDjb\" aria-hidden=\"true\" lang=\"\">check</i><i class=\"material-icons-extended VfPpkd-kBDsod W5jNxd\" aria-hidden=\"true\" lang=\"\">history</i></div><div class=\"PxXj2d\" jsname=\"Lm8Uhb\">コルシカ語</div></div><div class=\"ordo2\" jsname=\"sgblj\" data-language-code=\"sm\" tabindex=\"0\"><div class=\"ltCBQb\"><i class=\"material-icons-extended VfPpkd-kBDsod g3XDjb\" aria-hidden=\"true\" lang=\"\">check</i><i class=\"material-icons-extended VfPpkd-kBDsod W5jNxd\" aria-hidden=\"true\" lang=\"\">history</i></div><div class=\"PxXj2d\" jsname=\"Lm8Uhb\">サモア語</div></div><div class=\"ordo2\" jsname=\"sgblj\" data-language-code=\"jw\" tabindex=\"0\"><div class=\"ltCBQb\"><i class=\"material-icons-extended VfPpkd-kBDsod g3XDjb\" aria-hidden=\"true\" lang=\"\">check</i><i class=\"material-icons-extended VfPpkd-kBDsod W5jNxd\" aria-hidden=\"true\" lang=\"\">history</i></div><div class=\"PxXj2d\" jsname=\"Lm8Uhb\">ジャワ語</div></div><div class=\"ordo2\" jsname=\"sgblj\" data-language-code=\"ka\" tabindex=\"0\"><div class=\"ltCBQb\"><i class=\"material-icons-extended VfPpkd-kBDsod g3XDjb\" aria-hidden=\"true\" lang=\"\">check</i><i class=\"material-icons-extended VfPpkd-kBDsod W5jNxd\" aria-hidden=\"true\" lang=\"\">history</i></div><div class=\"PxXj2d\" jsname=\"Lm8Uhb\">ジョージア（グルジア）語</div></div><div class=\"ordo2\" jsname=\"sgblj\" data-language-code=\"sn\" tabindex=\"0\"><div class=\"ltCBQb\"><i class=\"material-icons-extended VfPpkd-kBDsod g3XDjb\" aria-hidden=\"true\" lang=\"\">check</i><i class=\"material-icons-extended VfPpkd-kBDsod W5jNxd\" aria-hidden=\"true\" lang=\"\">history</i></div><div class=\"PxXj2d\" jsname=\"Lm8Uhb\">ショナ語</div></div><div class=\"ordo2\" jsname=\"sgblj\" data-language-code=\"sd\" tabindex=\"0\"><div class=\"ltCBQb\"><i class=\"material-icons-extended VfPpkd-kBDsod g3XDjb\" aria-hidden=\"true\" lang=\"\">check</i><i class=\"material-icons-extended VfPpkd-kBDsod W5jNxd\" aria-hidden=\"true\" lang=\"\">history</i></div><div class=\"PxXj2d\" jsname=\"Lm8Uhb\">シンド語</div></div><div class=\"ordo2\" jsname=\"sgblj\" data-language-code=\"si\" tabindex=\"0\"><div class=\"ltCBQb\"><i class=\"material-icons-extended VfPpkd-kBDsod g3XDjb\" aria-hidden=\"true\" lang=\"\">check</i><i class=\"material-icons-extended VfPpkd-kBDsod W5jNxd\" aria-hidden=\"true\" lang=\"\">history</i></div><div class=\"PxXj2d\" jsname=\"Lm8Uhb\">シンハラ語</div></div><div class=\"ordo2\" jsname=\"sgblj\" data-language-code=\"sv\" tabindex=\"0\"><div class=\"ltCBQb\"><i class=\"material-icons-extended VfPpkd-kBDsod g3XDjb\" aria-hidden=\"true\" lang=\"\">check</i><i class=\"material-icons-extended VfPpkd-kBDsod W5jNxd\" aria-hidden=\"true\" lang=\"\">history</i></div><div class=\"PxXj2d\" jsname=\"Lm8Uhb\">スウェーデン語</div></div><div class=\"ordo2\" jsname=\"sgblj\" data-language-code=\"zu\" tabindex=\"0\"><div class=\"ltCBQb\"><i class=\"material-icons-extended VfPpkd-kBDsod g3XDjb\" aria-hidden=\"true\" lang=\"\">check</i><i class=\"material-icons-extended VfPpkd-kBDsod W5jNxd\" aria-hidden=\"true\" lang=\"\">history</i></div><div class=\"PxXj2d\" jsname=\"Lm8Uhb\">ズールー語</div></div><div class=\"ordo2\" jsname=\"sgblj\" data-language-code=\"gd\" tabindex=\"0\"><div class=\"ltCBQb\"><i class=\"material-icons-extended VfPpkd-kBDsod g3XDjb\" aria-hidden=\"true\" lang=\"\">check</i><i class=\"material-icons-extended VfPpkd-kBDsod W5jNxd\" aria-hidden=\"true\" lang=\"\">history</i></div><div class=\"PxXj2d\" jsname=\"Lm8Uhb\">スコットランド ゲール語</div></div><div class=\"ordo2\" jsname=\"sgblj\" data-language-code=\"es\" tabindex=\"0\"><div class=\"ltCBQb\"><i class=\"material-icons-extended VfPpkd-kBDsod g3XDjb\" aria-hidden=\"true\" lang=\"\">check</i><i class=\"material-icons-extended VfPpkd-kBDsod W5jNxd\" aria-hidden=\"true\" lang=\"\">history</i></div><div class=\"PxXj2d\" jsname=\"Lm8Uhb\">スペイン語</div></div><div class=\"ordo2\" jsname=\"sgblj\" data-language-code=\"sk\" tabindex=\"0\"><div class=\"ltCBQb\"><i class=\"material-icons-extended VfPpkd-kBDsod g3XDjb\" aria-hidden=\"true\" lang=\"\">check</i><i class=\"material-icons-extended VfPpkd-kBDsod W5jNxd\" aria-hidden=\"true\" lang=\"\">history</i></div><div class=\"PxXj2d\" jsname=\"Lm8Uhb\">スロバキア語</div></div><div class=\"ordo2\" jsname=\"sgblj\" data-language-code=\"sl\" tabindex=\"0\"><div class=\"ltCBQb\"><i class=\"material-icons-extended VfPpkd-kBDsod g3XDjb\" aria-hidden=\"true\" lang=\"\">check</i><i class=\"material-icons-extended VfPpkd-kBDsod W5jNxd\" aria-hidden=\"true\" lang=\"\">history</i></div><div class=\"PxXj2d\" jsname=\"Lm8Uhb\">スロベニア語</div></div><div class=\"ordo2\" jsname=\"sgblj\" data-language-code=\"sw\" tabindex=\"0\"><div class=\"ltCBQb\"><i class=\"material-icons-extended VfPpkd-kBDsod g3XDjb\" aria-hidden=\"true\" lang=\"\">check</i><i class=\"material-icons-extended VfPpkd-kBDsod W5jNxd\" aria-hidden=\"true\" lang=\"\">history</i></div><div class=\"PxXj2d\" jsname=\"Lm8Uhb\">スワヒリ語</div></div><div class=\"ordo2\" jsname=\"sgblj\" data-language-code=\"su\" tabindex=\"0\"><div class=\"ltCBQb\"><i class=\"material-icons-extended VfPpkd-kBDsod g3XDjb\" aria-hidden=\"true\" lang=\"\">check</i><i class=\"material-icons-extended VfPpkd-kBDsod W5jNxd\" aria-hidden=\"true\" lang=\"\">history</i></div><div class=\"PxXj2d\" jsname=\"Lm8Uhb\">スンダ語</div></div><div class=\"ordo2\" jsname=\"sgblj\" data-language-code=\"ceb\" tabindex=\"0\"><div class=\"ltCBQb\"><i class=\"material-icons-extended VfPpkd-kBDsod g3XDjb\" aria-hidden=\"true\" lang=\"\">check</i><i class=\"material-icons-extended VfPpkd-kBDsod W5jNxd\" aria-hidden=\"true\" lang=\"\">history</i></div><div class=\"PxXj2d\" jsname=\"Lm8Uhb\">セブアノ語</div></div><div class=\"ordo2\" jsname=\"sgblj\" data-language-code=\"sr\" tabindex=\"0\"><div class=\"ltCBQb\"><i class=\"material-icons-extended VfPpkd-kBDsod g3XDjb\" aria-hidden=\"true\" lang=\"\">check</i><i class=\"material-icons-extended VfPpkd-kBDsod W5jNxd\" aria-hidden=\"true\" lang=\"\">history</i></div><div class=\"PxXj2d\" jsname=\"Lm8Uhb\">セルビア語</div></div><div class=\"ordo2\" jsname=\"sgblj\" data-language-code=\"st\" tabindex=\"0\"><div class=\"ltCBQb\"><i class=\"material-icons-extended VfPpkd-kBDsod g3XDjb\" aria-hidden=\"true\" lang=\"\">check</i><i class=\"material-icons-extended VfPpkd-kBDsod W5jNxd\" aria-hidden=\"true\" lang=\"\">history</i></div><div class=\"PxXj2d\" jsname=\"Lm8Uhb\">ソト語</div></div><div class=\"ordo2\" jsname=\"sgblj\" data-language-code=\"so\" tabindex=\"0\"><div class=\"ltCBQb\"><i class=\"material-icons-extended VfPpkd-kBDsod g3XDjb\" aria-hidden=\"true\" lang=\"\">check</i><i class=\"material-icons-extended VfPpkd-kBDsod W5jNxd\" aria-hidden=\"true\" lang=\"\">history</i></div><div class=\"PxXj2d\" jsname=\"Lm8Uhb\">ソマリ語</div></div><div class=\"ordo2\" jsname=\"sgblj\" data-language-code=\"th\" tabindex=\"0\"><div class=\"ltCBQb\"><i class=\"material-icons-extended VfPpkd-kBDsod g3XDjb\" aria-hidden=\"true\" lang=\"\">check</i><i class=\"material-icons-extended VfPpkd-kBDsod W5jNxd\" aria-hidden=\"true\" lang=\"\">history</i></div><div class=\"PxXj2d\" jsname=\"Lm8Uhb\">タイ語</div></div><div class=\"ordo2\" jsname=\"sgblj\" data-language-code=\"tl\" tabindex=\"0\"><div class=\"ltCBQb\"><i class=\"material-icons-extended VfPpkd-kBDsod g3XDjb\" aria-hidden=\"true\" lang=\"\">check</i><i class=\"material-icons-extended VfPpkd-kBDsod W5jNxd\" aria-hidden=\"true\" lang=\"\">history</i></div><div class=\"PxXj2d\" jsname=\"Lm8Uhb\">タガログ語</div></div><div class=\"ordo2\" jsname=\"sgblj\" data-language-code=\"tg\" tabindex=\"0\"><div class=\"ltCBQb\"><i class=\"material-icons-extended VfPpkd-kBDsod g3XDjb\" aria-hidden=\"true\" lang=\"\">check</i><i class=\"material-icons-extended VfPpkd-kBDsod W5jNxd\" aria-hidden=\"true\" lang=\"\">history</i></div><div class=\"PxXj2d\" jsname=\"Lm8Uhb\">タジク語</div></div><div class=\"ordo2\" jsname=\"sgblj\" data-language-code=\"tt\" tabindex=\"0\"><div class=\"ltCBQb\"><i class=\"material-icons-extended VfPpkd-kBDsod g3XDjb\" aria-hidden=\"true\" lang=\"\">check</i><i class=\"material-icons-extended VfPpkd-kBDsod W5jNxd\" aria-hidden=\"true\" lang=\"\">history</i></div><div class=\"PxXj2d\" jsname=\"Lm8Uhb\">タタール語</div></div><div class=\"ordo2\" jsname=\"sgblj\" data-language-code=\"ta\" tabindex=\"0\"><div class=\"ltCBQb\"><i class=\"material-icons-extended VfPpkd-kBDsod g3XDjb\" aria-hidden=\"true\" lang=\"\">check</i><i class=\"material-icons-extended VfPpkd-kBDsod W5jNxd\" aria-hidden=\"true\" lang=\"\">history</i></div><div class=\"PxXj2d\" jsname=\"Lm8Uhb\">タミル語</div></div><div class=\"ordo2\" jsname=\"sgblj\" data-language-code=\"cs\" tabindex=\"0\"><div class=\"ltCBQb\"><i class=\"material-icons-extended VfPpkd-kBDsod g3XDjb\" aria-hidden=\"true\" lang=\"\">check</i><i class=\"material-icons-extended VfPpkd-kBDsod W5jNxd\" aria-hidden=\"true\" lang=\"\">history</i></div><div class=\"PxXj2d\" jsname=\"Lm8Uhb\">チェコ語</div></div><div class=\"ordo2\" jsname=\"sgblj\" data-language-code=\"ny\" tabindex=\"0\"><div class=\"ltCBQb\"><i class=\"material-icons-extended VfPpkd-kBDsod g3XDjb\" aria-hidden=\"true\" lang=\"\">check</i><i class=\"material-icons-extended VfPpkd-kBDsod W5jNxd\" aria-hidden=\"true\" lang=\"\">history</i></div><div class=\"PxXj2d\" jsname=\"Lm8Uhb\">チェワ語</div></div><div class=\"ordo2\" jsname=\"sgblj\" data-language-code=\"te\" tabindex=\"0\"><div class=\"ltCBQb\"><i class=\"material-icons-extended VfPpkd-kBDsod g3XDjb\" aria-hidden=\"true\" lang=\"\">check</i><i class=\"material-icons-extended VfPpkd-kBDsod W5jNxd\" aria-hidden=\"true\" lang=\"\">history</i></div><div class=\"PxXj2d\" jsname=\"Lm8Uhb\">テルグ語</div></div><div class=\"ordo2\" jsname=\"sgblj\" data-language-code=\"da\" tabindex=\"0\"><div class=\"ltCBQb\"><i class=\"material-icons-extended VfPpkd-kBDsod g3XDjb\" aria-hidden=\"true\" lang=\"\">check</i><i class=\"material-icons-extended VfPpkd-kBDsod W5jNxd\" aria-hidden=\"true\" lang=\"\">history</i></div><div class=\"PxXj2d\" jsname=\"Lm8Uhb\">デンマーク語</div></div><div class=\"ordo2\" jsname=\"sgblj\" data-language-code=\"de\" tabindex=\"0\"><div class=\"ltCBQb\"><i class=\"material-icons-extended VfPpkd-kBDsod g3XDjb\" aria-hidden=\"true\" lang=\"\">check</i><i class=\"material-icons-extended VfPpkd-kBDsod W5jNxd\" aria-hidden=\"true\" lang=\"\">history</i></div><div class=\"PxXj2d\" jsname=\"Lm8Uhb\">ドイツ語</div></div><div class=\"ordo2\" jsname=\"sgblj\" data-language-code=\"tk\" tabindex=\"0\"><div class=\"ltCBQb\"><i class=\"material-icons-extended VfPpkd-kBDsod g3XDjb\" aria-hidden=\"true\" lang=\"\">check</i><i class=\"material-icons-extended VfPpkd-kBDsod W5jNxd\" aria-hidden=\"true\" lang=\"\">history</i></div><div class=\"PxXj2d\" jsname=\"Lm8Uhb\">トルクメン語</div></div><div class=\"ordo2\" jsname=\"sgblj\" data-language-code=\"tr\" tabindex=\"0\"><div class=\"ltCBQb\"><i class=\"material-icons-extended VfPpkd-kBDsod g3XDjb\" aria-hidden=\"true\" lang=\"\">check</i><i class=\"material-icons-extended VfPpkd-kBDsod W5jNxd\" aria-hidden=\"true\" lang=\"\">history</i></div><div class=\"PxXj2d\" jsname=\"Lm8Uhb\">トルコ語</div></div><div class=\"ordo2\" jsname=\"sgblj\" data-language-code=\"ne\" tabindex=\"0\"><div class=\"ltCBQb\"><i class=\"material-icons-extended VfPpkd-kBDsod g3XDjb\" aria-hidden=\"true\" lang=\"\">check</i><i class=\"material-icons-extended VfPpkd-kBDsod W5jNxd\" aria-hidden=\"true\" lang=\"\">history</i></div><div class=\"PxXj2d\" jsname=\"Lm8Uhb\">ネパール語</div></div><div class=\"ordo2\" jsname=\"sgblj\" data-language-code=\"no\" tabindex=\"0\"><div class=\"ltCBQb\"><i class=\"material-icons-extended VfPpkd-kBDsod g3XDjb\" aria-hidden=\"true\" lang=\"\">check</i><i class=\"material-icons-extended VfPpkd-kBDsod W5jNxd\" aria-hidden=\"true\" lang=\"\">history</i></div><div class=\"PxXj2d\" jsname=\"Lm8Uhb\">ノルウェー語</div></div><div class=\"ordo2\" jsname=\"sgblj\" data-language-code=\"ht\" tabindex=\"0\"><div class=\"ltCBQb\"><i class=\"material-icons-extended VfPpkd-kBDsod g3XDjb\" aria-hidden=\"true\" lang=\"\">check</i><i class=\"material-icons-extended VfPpkd-kBDsod W5jNxd\" aria-hidden=\"true\" lang=\"\">history</i></div><div class=\"PxXj2d\" jsname=\"Lm8Uhb\">ハイチ語</div></div><div class=\"ordo2\" jsname=\"sgblj\" data-language-code=\"ha\" tabindex=\"0\"><div class=\"ltCBQb\"><i class=\"material-icons-extended VfPpkd-kBDsod g3XDjb\" aria-hidden=\"true\" lang=\"\">check</i><i class=\"material-icons-extended VfPpkd-kBDsod W5jNxd\" aria-hidden=\"true\" lang=\"\">history</i></div><div class=\"PxXj2d\" jsname=\"Lm8Uhb\">ハウサ語</div></div><div class=\"ordo2\" jsname=\"sgblj\" data-language-code=\"ps\" tabindex=\"0\"><div class=\"ltCBQb\"><i class=\"material-icons-extended VfPpkd-kBDsod g3XDjb\" aria-hidden=\"true\" lang=\"\">check</i><i class=\"material-icons-extended VfPpkd-kBDsod W5jNxd\" aria-hidden=\"true\" lang=\"\">history</i></div><div class=\"PxXj2d\" jsname=\"Lm8Uhb\">パシュト語</div></div><div class=\"ordo2\" jsname=\"sgblj\" data-language-code=\"eu\" tabindex=\"0\"><div class=\"ltCBQb\"><i class=\"material-icons-extended VfPpkd-kBDsod g3XDjb\" aria-hidden=\"true\" lang=\"\">check</i><i class=\"material-icons-extended VfPpkd-kBDsod W5jNxd\" aria-hidden=\"true\" lang=\"\">history</i></div><div class=\"PxXj2d\" jsname=\"Lm8Uhb\">バスク語</div></div><div class=\"ordo2\" jsname=\"sgblj\" data-language-code=\"haw\" tabindex=\"0\"><div class=\"ltCBQb\"><i class=\"material-icons-extended VfPpkd-kBDsod g3XDjb\" aria-hidden=\"true\" lang=\"\">check</i><i class=\"material-icons-extended VfPpkd-kBDsod W5jNxd\" aria-hidden=\"true\" lang=\"\">history</i></div><div class=\"PxXj2d\" jsname=\"Lm8Uhb\">ハワイ語</div></div><div class=\"ordo2\" jsname=\"sgblj\" data-language-code=\"hu\" tabindex=\"0\"><div class=\"ltCBQb\"><i class=\"material-icons-extended VfPpkd-kBDsod g3XDjb\" aria-hidden=\"true\" lang=\"\">check</i><i class=\"material-icons-extended VfPpkd-kBDsod W5jNxd\" aria-hidden=\"true\" lang=\"\">history</i></div><div class=\"PxXj2d\" jsname=\"Lm8Uhb\">ハンガリー語</div></div><div class=\"ordo2\" jsname=\"sgblj\" data-language-code=\"pa\" tabindex=\"0\"><div class=\"ltCBQb\"><i class=\"material-icons-extended VfPpkd-kBDsod g3XDjb\" aria-hidden=\"true\" lang=\"\">check</i><i class=\"material-icons-extended VfPpkd-kBDsod W5jNxd\" aria-hidden=\"true\" lang=\"\">history</i></div><div class=\"PxXj2d\" jsname=\"Lm8Uhb\">パンジャブ語</div></div><div class=\"ordo2\" jsname=\"sgblj\" data-language-code=\"hi\" tabindex=\"0\"><div class=\"ltCBQb\"><i class=\"material-icons-extended VfPpkd-kBDsod g3XDjb\" aria-hidden=\"true\" lang=\"\">check</i><i class=\"material-icons-extended VfPpkd-kBDsod W5jNxd\" aria-hidden=\"true\" lang=\"\">history</i></div><div class=\"PxXj2d\" jsname=\"Lm8Uhb\">ヒンディー語</div></div><div class=\"ordo2\" jsname=\"sgblj\" data-language-code=\"fi\" tabindex=\"0\"><div class=\"ltCBQb\"><i class=\"material-icons-extended VfPpkd-kBDsod g3XDjb\" aria-hidden=\"true\" lang=\"\">check</i><i class=\"material-icons-extended VfPpkd-kBDsod W5jNxd\" aria-hidden=\"true\" lang=\"\">history</i></div><div class=\"PxXj2d\" jsname=\"Lm8Uhb\">フィンランド語</div></div><div class=\"ordo2\" jsname=\"sgblj\" data-language-code=\"fr\" tabindex=\"0\"><div class=\"ltCBQb\"><i class=\"material-icons-extended VfPpkd-kBDsod g3XDjb\" aria-hidden=\"true\" lang=\"\">check</i><i class=\"material-icons-extended VfPpkd-kBDsod W5jNxd\" aria-hidden=\"true\" lang=\"\">history</i></div><div class=\"PxXj2d\" jsname=\"Lm8Uhb\">フランス語</div></div><div class=\"ordo2\" jsname=\"sgblj\" data-language-code=\"fy\" tabindex=\"0\"><div class=\"ltCBQb\"><i class=\"material-icons-extended VfPpkd-kBDsod g3XDjb\" aria-hidden=\"true\" lang=\"\">check</i><i class=\"material-icons-extended VfPpkd-kBDsod W5jNxd\" aria-hidden=\"true\" lang=\"\">history</i></div><div class=\"PxXj2d\" jsname=\"Lm8Uhb\">フリジア語</div></div><div class=\"ordo2\" jsname=\"sgblj\" data-language-code=\"bg\" tabindex=\"0\"><div class=\"ltCBQb\"><i class=\"material-icons-extended VfPpkd-kBDsod g3XDjb\" aria-hidden=\"true\" lang=\"\">check</i><i class=\"material-icons-extended VfPpkd-kBDsod W5jNxd\" aria-hidden=\"true\" lang=\"\">history</i></div><div class=\"PxXj2d\" jsname=\"Lm8Uhb\">ブルガリア語</div></div><div class=\"ordo2\" jsname=\"sgblj\" data-language-code=\"vi\" tabindex=\"0\"><div class=\"ltCBQb\"><i class=\"material-icons-extended VfPpkd-kBDsod g3XDjb\" aria-hidden=\"true\" lang=\"\">check</i><i class=\"material-icons-extended VfPpkd-kBDsod W5jNxd\" aria-hidden=\"true\" lang=\"\">history</i></div><div class=\"PxXj2d\" jsname=\"Lm8Uhb\">ベトナム語</div></div><div class=\"ordo2\" jsname=\"sgblj\" data-language-code=\"iw\" tabindex=\"0\"><div class=\"ltCBQb\"><i class=\"material-icons-extended VfPpkd-kBDsod g3XDjb\" aria-hidden=\"true\" lang=\"\">check</i><i class=\"material-icons-extended VfPpkd-kBDsod W5jNxd\" aria-hidden=\"true\" lang=\"\">history</i></div><div class=\"PxXj2d\" jsname=\"Lm8Uhb\">ヘブライ語</div></div><div class=\"ordo2\" jsname=\"sgblj\" data-language-code=\"be\" tabindex=\"0\"><div class=\"ltCBQb\"><i class=\"material-icons-extended VfPpkd-kBDsod g3XDjb\" aria-hidden=\"true\" lang=\"\">check</i><i class=\"material-icons-extended VfPpkd-kBDsod W5jNxd\" aria-hidden=\"true\" lang=\"\">history</i></div><div class=\"PxXj2d\" jsname=\"Lm8Uhb\">ベラルーシ語</div></div><div class=\"ordo2\" jsname=\"sgblj\" data-language-code=\"fa\" tabindex=\"0\"><div class=\"ltCBQb\"><i class=\"material-icons-extended VfPpkd-kBDsod g3XDjb\" aria-hidden=\"true\" lang=\"\">check</i><i class=\"material-icons-extended VfPpkd-kBDsod W5jNxd\" aria-hidden=\"true\" lang=\"\">history</i></div><div class=\"PxXj2d\" jsname=\"Lm8Uhb\">ペルシャ語</div></div><div class=\"ordo2\" jsname=\"sgblj\" data-language-code=\"bn\" tabindex=\"0\"><div class=\"ltCBQb\"><i class=\"material-icons-extended VfPpkd-kBDsod g3XDjb\" aria-hidden=\"true\" lang=\"\">check</i><i class=\"material-icons-extended VfPpkd-kBDsod W5jNxd\" aria-hidden=\"true\" lang=\"\">history</i></div><div class=\"PxXj2d\" jsname=\"Lm8Uhb\">ベンガル語</div></div><div class=\"ordo2\" jsname=\"sgblj\" data-language-code=\"pl\" tabindex=\"0\"><div class=\"ltCBQb\"><i class=\"material-icons-extended VfPpkd-kBDsod g3XDjb\" aria-hidden=\"true\" lang=\"\">check</i><i class=\"material-icons-extended VfPpkd-kBDsod W5jNxd\" aria-hidden=\"true\" lang=\"\">history</i></div><div class=\"PxXj2d\" jsname=\"Lm8Uhb\">ポーランド語</div></div><div class=\"ordo2\" jsname=\"sgblj\" data-language-code=\"bs\" tabindex=\"0\"><div class=\"ltCBQb\"><i class=\"material-icons-extended VfPpkd-kBDsod g3XDjb\" aria-hidden=\"true\" lang=\"\">check</i><i class=\"material-icons-extended VfPpkd-kBDsod W5jNxd\" aria-hidden=\"true\" lang=\"\">history</i></div><div class=\"PxXj2d\" jsname=\"Lm8Uhb\">ボスニア語</div></div><div class=\"ordo2\" jsname=\"sgblj\" data-language-code=\"pt\" tabindex=\"0\"><div class=\"ltCBQb\"><i class=\"material-icons-extended VfPpkd-kBDsod g3XDjb\" aria-hidden=\"true\" lang=\"\">check</i><i class=\"material-icons-extended VfPpkd-kBDsod W5jNxd\" aria-hidden=\"true\" lang=\"\">history</i></div><div class=\"PxXj2d\" jsname=\"Lm8Uhb\">ポルトガル語</div></div><div class=\"ordo2\" jsname=\"sgblj\" data-language-code=\"mi\" tabindex=\"0\"><div class=\"ltCBQb\"><i class=\"material-icons-extended VfPpkd-kBDsod g3XDjb\" aria-hidden=\"true\" lang=\"\">check</i><i class=\"material-icons-extended VfPpkd-kBDsod W5jNxd\" aria-hidden=\"true\" lang=\"\">history</i></div><div class=\"PxXj2d\" jsname=\"Lm8Uhb\">マオリ語</div></div><div class=\"ordo2\" jsname=\"sgblj\" data-language-code=\"mk\" tabindex=\"0\"><div class=\"ltCBQb\"><i class=\"material-icons-extended VfPpkd-kBDsod g3XDjb\" aria-hidden=\"true\" lang=\"\">check</i><i class=\"material-icons-extended VfPpkd-kBDsod W5jNxd\" aria-hidden=\"true\" lang=\"\">history</i></div><div class=\"PxXj2d\" jsname=\"Lm8Uhb\">マケドニア語</div></div><div class=\"ordo2\" jsname=\"sgblj\" data-language-code=\"mr\" tabindex=\"0\"><div class=\"ltCBQb\"><i class=\"material-icons-extended VfPpkd-kBDsod g3XDjb\" aria-hidden=\"true\" lang=\"\">check</i><i class=\"material-icons-extended VfPpkd-kBDsod W5jNxd\" aria-hidden=\"true\" lang=\"\">history</i></div><div class=\"PxXj2d\" jsname=\"Lm8Uhb\">マラーティー語</div></div><div class=\"ordo2\" jsname=\"sgblj\" data-language-code=\"mg\" tabindex=\"0\"><div class=\"ltCBQb\"><i class=\"material-icons-extended VfPpkd-kBDsod g3XDjb\" aria-hidden=\"true\" lang=\"\">check</i><i class=\"material-icons-extended VfPpkd-kBDsod W5jNxd\" aria-hidden=\"true\" lang=\"\">history</i></div><div class=\"PxXj2d\" jsname=\"Lm8Uhb\">マラガシ語</div></div><div class=\"ordo2\" jsname=\"sgblj\" data-language-code=\"ml\" tabindex=\"0\"><div class=\"ltCBQb\"><i class=\"material-icons-extended VfPpkd-kBDsod g3XDjb\" aria-hidden=\"true\" lang=\"\">check</i><i class=\"material-icons-extended VfPpkd-kBDsod W5jNxd\" aria-hidden=\"true\" lang=\"\">history</i></div><div class=\"PxXj2d\" jsname=\"Lm8Uhb\">マラヤーラム語</div></div><div class=\"ordo2\" jsname=\"sgblj\" data-language-code=\"mt\" tabindex=\"0\"><div class=\"ltCBQb\"><i class=\"material-icons-extended VfPpkd-kBDsod g3XDjb\" aria-hidden=\"true\" lang=\"\">check</i><i class=\"material-icons-extended VfPpkd-kBDsod W5jNxd\" aria-hidden=\"true\" lang=\"\">history</i></div><div class=\"PxXj2d\" jsname=\"Lm8Uhb\">マルタ語</div></div><div class=\"ordo2\" jsname=\"sgblj\" data-language-code=\"ms\" tabindex=\"0\"><div class=\"ltCBQb\"><i class=\"material-icons-extended VfPpkd-kBDsod g3XDjb\" aria-hidden=\"true\" lang=\"\">check</i><i class=\"material-icons-extended VfPpkd-kBDsod W5jNxd\" aria-hidden=\"true\" lang=\"\">history</i></div><div class=\"PxXj2d\" jsname=\"Lm8Uhb\">マレー語</div></div><div class=\"ordo2\" jsname=\"sgblj\" data-language-code=\"my\" tabindex=\"0\"><div class=\"ltCBQb\"><i class=\"material-icons-extended VfPpkd-kBDsod g3XDjb\" aria-hidden=\"true\" lang=\"\">check</i><i class=\"material-icons-extended VfPpkd-kBDsod W5jNxd\" aria-hidden=\"true\" lang=\"\">history</i></div><div class=\"PxXj2d\" jsname=\"Lm8Uhb\">ミャンマー語</div></div><div class=\"ordo2\" jsname=\"sgblj\" data-language-code=\"mn\" tabindex=\"0\"><div class=\"ltCBQb\"><i class=\"material-icons-extended VfPpkd-kBDsod g3XDjb\" aria-hidden=\"true\" lang=\"\">check</i><i class=\"material-icons-extended VfPpkd-kBDsod W5jNxd\" aria-hidden=\"true\" lang=\"\">history</i></div><div class=\"PxXj2d\" jsname=\"Lm8Uhb\">モンゴル語</div></div><div class=\"ordo2\" jsname=\"sgblj\" data-language-code=\"hmn\" tabindex=\"0\"><div class=\"ltCBQb\"><i class=\"material-icons-extended VfPpkd-kBDsod g3XDjb\" aria-hidden=\"true\" lang=\"\">check</i><i class=\"material-icons-extended VfPpkd-kBDsod W5jNxd\" aria-hidden=\"true\" lang=\"\">history</i></div><div class=\"PxXj2d\" jsname=\"Lm8Uhb\">モン語</div></div><div class=\"ordo2\" jsname=\"sgblj\" data-language-code=\"yo\" tabindex=\"0\"><div class=\"ltCBQb\"><i class=\"material-icons-extended VfPpkd-kBDsod g3XDjb\" aria-hidden=\"true\" lang=\"\">check</i><i class=\"material-icons-extended VfPpkd-kBDsod W5jNxd\" aria-hidden=\"true\" lang=\"\">history</i></div><div class=\"PxXj2d\" jsname=\"Lm8Uhb\">ヨルバ語</div></div><div class=\"ordo2\" jsname=\"sgblj\" data-language-code=\"lo\" tabindex=\"0\"><div class=\"ltCBQb\"><i class=\"material-icons-extended VfPpkd-kBDsod g3XDjb\" aria-hidden=\"true\" lang=\"\">check</i><i class=\"material-icons-extended VfPpkd-kBDsod W5jNxd\" aria-hidden=\"true\" lang=\"\">history</i></div><div class=\"PxXj2d\" jsname=\"Lm8Uhb\">ラオ語</div></div><div class=\"ordo2\" jsname=\"sgblj\" data-language-code=\"la\" tabindex=\"0\"><div class=\"ltCBQb\"><i class=\"material-icons-extended VfPpkd-kBDsod g3XDjb\" aria-hidden=\"true\" lang=\"\">check</i><i class=\"material-icons-extended VfPpkd-kBDsod W5jNxd\" aria-hidden=\"true\" lang=\"\">history</i></div><div class=\"PxXj2d\" jsname=\"Lm8Uhb\">ラテン語</div></div><div class=\"ordo2\" jsname=\"sgblj\" data-language-code=\"lv\" tabindex=\"0\"><div class=\"ltCBQb\"><i class=\"material-icons-extended VfPpkd-kBDsod g3XDjb\" aria-hidden=\"true\" lang=\"\">check</i><i class=\"material-icons-extended VfPpkd-kBDsod W5jNxd\" aria-hidden=\"true\" lang=\"\">history</i></div><div class=\"PxXj2d\" jsname=\"Lm8Uhb\">ラトビア語</div></div><div class=\"ordo2\" jsname=\"sgblj\" data-language-code=\"lt\" tabindex=\"0\"><div class=\"ltCBQb\"><i class=\"material-icons-extended VfPpkd-kBDsod g3XDjb\" aria-hidden=\"true\" lang=\"\">check</i><i class=\"material-icons-extended VfPpkd-kBDsod W5jNxd\" aria-hidden=\"true\" lang=\"\">history</i></div><div class=\"PxXj2d\" jsname=\"Lm8Uhb\">リトアニア語</div></div><div class=\"ordo2\" jsname=\"sgblj\" data-language-code=\"ro\" tabindex=\"0\"><div class=\"ltCBQb\"><i class=\"material-icons-extended VfPpkd-kBDsod g3XDjb\" aria-hidden=\"true\" lang=\"\">check</i><i class=\"material-icons-extended VfPpkd-kBDsod W5jNxd\" aria-hidden=\"true\" lang=\"\">history</i></div><div class=\"PxXj2d\" jsname=\"Lm8Uhb\">ルーマニア語</div></div><div class=\"ordo2\" jsname=\"sgblj\" data-language-code=\"lb\" tabindex=\"0\"><div class=\"ltCBQb\"><i class=\"material-icons-extended VfPpkd-kBDsod g3XDjb\" aria-hidden=\"true\" lang=\"\">check</i><i class=\"material-icons-extended VfPpkd-kBDsod W5jNxd\" aria-hidden=\"true\" lang=\"\">history</i></div><div class=\"PxXj2d\" jsname=\"Lm8Uhb\">ルクセンブルク語</div></div><div class=\"ordo2\" jsname=\"sgblj\" data-language-code=\"ru\" tabindex=\"0\"><div class=\"ltCBQb\"><i class=\"material-icons-extended VfPpkd-kBDsod g3XDjb\" aria-hidden=\"true\" lang=\"\">check</i><i class=\"material-icons-extended VfPpkd-kBDsod W5jNxd\" aria-hidden=\"true\" lang=\"\">history</i></div><div class=\"PxXj2d\" jsname=\"Lm8Uhb\">ロシア語</div></div><div class=\"ordo2\" jsname=\"sgblj\" data-language-code=\"en\" tabindex=\"0\"><div class=\"ltCBQb\"><i class=\"material-icons-extended VfPpkd-kBDsod g3XDjb\" aria-hidden=\"true\" lang=\"\">check</i><i class=\"material-icons-extended VfPpkd-kBDsod W5jNxd\" aria-hidden=\"true\" lang=\"\">history</i></div><div class=\"PxXj2d\" jsname=\"Lm8Uhb\">英語</div></div><div class=\"ordo2 RCaXn\" jsname=\"sgblj\" data-language-code=\"ko\" tabindex=\"0\"><div class=\"ltCBQb\"><i class=\"material-icons-extended VfPpkd-kBDsod g3XDjb\" aria-hidden=\"true\" lang=\"\">check</i><i class=\"material-icons-extended VfPpkd-kBDsod W5jNxd\" aria-hidden=\"true\" lang=\"\">history</i></div><div class=\"PxXj2d\" jsname=\"Lm8Uhb\">韓国語</div></div><div class=\"ordo2\" jsname=\"sgblj\" data-language-code=\"zh-CN\" tabindex=\"0\"><div class=\"ltCBQb\"><i class=\"material-icons-extended VfPpkd-kBDsod g3XDjb\" aria-hidden=\"true\" lang=\"\">check</i><i class=\"material-icons-extended VfPpkd-kBDsod W5jNxd\" aria-hidden=\"true\" lang=\"\">history</i></div><div class=\"PxXj2d\" jsname=\"Lm8Uhb\">中国語</div></div><div class=\"ordo2 RCaXn KKjvXb\" jsname=\"sgblj\" data-language-code=\"ja\" tabindex=\"0\"><div class=\"ltCBQb\"><i class=\"material-icons-extended VfPpkd-kBDsod g3XDjb\" aria-hidden=\"true\" lang=\"\">check</i><i class=\"material-icons-extended VfPpkd-kBDsod W5jNxd\" aria-hidden=\"true\" lang=\"\">history</i></div><div class=\"PxXj2d\" jsname=\"Lm8Uhb\">日本語</div></div>'\n",
    "lang_soup = BeautifulSoup(lang_elems_html, 'html.parser')"
   ]
  },
  {
   "cell_type": "code",
   "execution_count": 3,
   "metadata": {},
   "outputs": [],
   "source": [
    "lang_codes = [elem['data-language-code'] for elem in lang_soup.select('.ordo2')]"
   ]
  },
  {
   "cell_type": "code",
   "execution_count": 4,
   "metadata": {},
   "outputs": [],
   "source": [
    "lang_jps = [elem.select('div')[-1].text for elem in lang_soup.select('.ordo2')]"
   ]
  },
  {
   "cell_type": "code",
   "execution_count": 49,
   "metadata": {},
   "outputs": [],
   "source": [
    "def translate_from_jp(word, dests):\n",
    "    driver = get_driver(False)\n",
    "    dest_words = []\n",
    "    for dest in dests:\n",
    "        url = f'https://translate.google.co.jp/?hl=ja&sl=ja&tl={dest}&text={word}&op=translate'\n",
    "        driver.get(url)\n",
    "        time.sleep(1.0)\n",
    "        dest_word = driver.find_element_by_xpath('/html/body/c-wiz/div/div[2]/c-wiz/div[2]/c-wiz/div[1]/div[2]/div[2]/c-wiz[2]/div[5]/div/div[1]/span[1]/span/span').text    \n",
    "        dest_words.append(dest_word)\n",
    "    driver.close()\n",
    "    return dest_words"
   ]
  },
  {
   "cell_type": "code",
   "execution_count": 50,
   "metadata": {},
   "outputs": [],
   "source": [
    "negi = translate_from_jp('ねぎ', lang_codes)\n",
    "aonegi = translate_from_jp('青ねぎ', lang_codes)\n",
    "tamanegi = translate_from_jp('玉ねぎ', lang_codes)"
   ]
  },
  {
   "cell_type": "code",
   "execution_count": 51,
   "metadata": {},
   "outputs": [],
   "source": [
    "ja_langs = [f\"{lang_jp}-{lang_code}\" for lang_code, lang_jp in zip(lang_codes, lang_jps)]\n",
    "df_negi_tamanegi = pd.DataFrame({'ねぎ': negi, '玉ねぎ': tamanegi}, index=ja_langs)\n",
    "df_aonegi_tamanegi = pd.DataFrame({'青ねぎ': aonegi, '玉ねぎ': tamanegi}, index=ja_langs)"
   ]
  },
  {
   "cell_type": "code",
   "execution_count": 53,
   "metadata": {},
   "outputs": [],
   "source": [
    "df_negi_tamanegi.to_csv('negi_tamanegi.csv')\n",
    "df_aonegi_tamanegi.to_csv('aonegi_tamanegi.csv')"
   ]
  },
  {
   "cell_type": "code",
   "execution_count": 55,
   "metadata": {},
   "outputs": [],
   "source": []
  },
  {
   "cell_type": "code",
   "execution_count": null,
   "metadata": {},
   "outputs": [],
   "source": []
  }
 ],
 "metadata": {
  "kernelspec": {
   "display_name": "Python 3",
   "language": "python",
   "name": "python3"
  },
  "language_info": {
   "codemirror_mode": {
    "name": "ipython",
    "version": 3
   },
   "file_extension": ".py",
   "mimetype": "text/x-python",
   "name": "python",
   "nbconvert_exporter": "python",
   "pygments_lexer": "ipython3",
   "version": "3.6.5"
  }
 },
 "nbformat": 4,
 "nbformat_minor": 4
}
